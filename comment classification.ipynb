{
 "cells": [
  {
   "cell_type": "code",
   "execution_count": 3,
   "metadata": {},
   "outputs": [
    {
     "name": "stdout",
     "output_type": "stream",
     "text": [
      "Requirement already satisfied: keras in c:\\users\\trive\\appdata\\local\\conda\\conda\\envs\\tensorflowenv\\lib\\site-packages (2.2.4)\n",
      "Requirement already satisfied: numpy>=1.9.1 in c:\\users\\trive\\appdata\\local\\conda\\conda\\envs\\tensorflowenv\\lib\\site-packages (from keras) (1.18.1)\n",
      "Requirement already satisfied: scipy>=0.14 in c:\\users\\trive\\appdata\\local\\conda\\conda\\envs\\tensorflowenv\\lib\\site-packages (from keras) (1.4.1)\n",
      "Requirement already satisfied: six>=1.9.0 in c:\\users\\trive\\appdata\\local\\conda\\conda\\envs\\tensorflowenv\\lib\\site-packages (from keras) (1.14.0)\n",
      "Requirement already satisfied: pyyaml in c:\\users\\trive\\appdata\\local\\conda\\conda\\envs\\tensorflowenv\\lib\\site-packages (from keras) (5.3)\n",
      "Requirement already satisfied: h5py in c:\\users\\trive\\appdata\\local\\conda\\conda\\envs\\tensorflowenv\\lib\\site-packages (from keras) (2.10.0)\n",
      "Requirement already satisfied: keras_applications>=1.0.6 in c:\\users\\trive\\appdata\\local\\conda\\conda\\envs\\tensorflowenv\\lib\\site-packages (from keras) (1.0.8)\n",
      "Requirement already satisfied: keras_preprocessing>=1.0.5 in c:\\users\\trive\\appdata\\local\\conda\\conda\\envs\\tensorflowenv\\lib\\site-packages (from keras) (1.1.0)\n",
      "Requirement already satisfied: tensorflow in c:\\users\\trive\\appdata\\local\\conda\\conda\\envs\\tensorflowenv\\lib\\site-packages (1.15.0)\n",
      "Requirement already satisfied: tensorflow-estimator==1.15.1 in c:\\users\\trive\\appdata\\local\\conda\\conda\\envs\\tensorflowenv\\lib\\site-packages (from tensorflow) (1.15.1)\n",
      "Requirement already satisfied: numpy<2.0,>=1.16.0 in c:\\users\\trive\\appdata\\local\\conda\\conda\\envs\\tensorflowenv\\lib\\site-packages (from tensorflow) (1.18.1)\n",
      "Requirement already satisfied: wheel>=0.26 in c:\\users\\trive\\appdata\\local\\conda\\conda\\envs\\tensorflowenv\\lib\\site-packages (from tensorflow) (0.34.2)\n",
      "Requirement already satisfied: grpcio>=1.8.6 in c:\\users\\trive\\appdata\\local\\conda\\conda\\envs\\tensorflowenv\\lib\\site-packages (from tensorflow) (1.27.2)\n",
      "Requirement already satisfied: gast==0.2.2 in c:\\users\\trive\\appdata\\local\\conda\\conda\\envs\\tensorflowenv\\lib\\site-packages (from tensorflow) (0.2.2)\n",
      "Requirement already satisfied: opt-einsum>=2.3.2 in c:\\users\\trive\\appdata\\local\\conda\\conda\\envs\\tensorflowenv\\lib\\site-packages (from tensorflow) (3.1.0)\n",
      "Requirement already satisfied: absl-py>=0.7.0 in c:\\users\\trive\\appdata\\local\\conda\\conda\\envs\\tensorflowenv\\lib\\site-packages (from tensorflow) (0.9.0)\n",
      "Requirement already satisfied: keras-applications>=1.0.8 in c:\\users\\trive\\appdata\\local\\conda\\conda\\envs\\tensorflowenv\\lib\\site-packages (from tensorflow) (1.0.8)\n",
      "Requirement already satisfied: wrapt>=1.11.1 in c:\\users\\trive\\appdata\\local\\conda\\conda\\envs\\tensorflowenv\\lib\\site-packages (from tensorflow) (1.11.2)\n",
      "Requirement already satisfied: six>=1.10.0 in c:\\users\\trive\\appdata\\local\\conda\\conda\\envs\\tensorflowenv\\lib\\site-packages (from tensorflow) (1.14.0)\n",
      "Requirement already satisfied: termcolor>=1.1.0 in c:\\users\\trive\\appdata\\local\\conda\\conda\\envs\\tensorflowenv\\lib\\site-packages (from tensorflow) (1.1.0)\n",
      "Requirement already satisfied: keras-preprocessing>=1.0.5 in c:\\users\\trive\\appdata\\local\\conda\\conda\\envs\\tensorflowenv\\lib\\site-packages (from tensorflow) (1.1.0)\n",
      "Requirement already satisfied: tensorboard<1.16.0,>=1.15.0 in c:\\users\\trive\\appdata\\local\\conda\\conda\\envs\\tensorflowenv\\lib\\site-packages (from tensorflow) (1.15.0)\n",
      "Requirement already satisfied: astor>=0.6.0 in c:\\users\\trive\\appdata\\local\\conda\\conda\\envs\\tensorflowenv\\lib\\site-packages (from tensorflow) (0.8.0)\n",
      "Requirement already satisfied: protobuf>=3.6.1 in c:\\users\\trive\\appdata\\local\\conda\\conda\\envs\\tensorflowenv\\lib\\site-packages (from tensorflow) (3.11.4)\n",
      "Requirement already satisfied: google-pasta>=0.1.6 in c:\\users\\trive\\appdata\\local\\conda\\conda\\envs\\tensorflowenv\\lib\\site-packages (from tensorflow) (0.1.8)\n",
      "Requirement already satisfied: h5py in c:\\users\\trive\\appdata\\local\\conda\\conda\\envs\\tensorflowenv\\lib\\site-packages (from keras-applications>=1.0.8->tensorflow) (2.10.0)\n",
      "Requirement already satisfied: markdown>=2.6.8 in c:\\users\\trive\\appdata\\local\\conda\\conda\\envs\\tensorflowenv\\lib\\site-packages (from tensorboard<1.16.0,>=1.15.0->tensorflow) (3.1.1)\n",
      "Requirement already satisfied: setuptools>=41.0.0 in c:\\users\\trive\\appdata\\local\\conda\\conda\\envs\\tensorflowenv\\lib\\site-packages (from tensorboard<1.16.0,>=1.15.0->tensorflow) (45.2.0.post20200210)\n",
      "Requirement already satisfied: werkzeug>=0.11.15 in c:\\users\\trive\\appdata\\local\\conda\\conda\\envs\\tensorflowenv\\lib\\site-packages (from tensorboard<1.16.0,>=1.15.0->tensorflow) (0.16.1)\n",
      "Requirement already satisfied: pandas in c:\\users\\trive\\appdata\\local\\conda\\conda\\envs\\tensorflowenv\\lib\\site-packages (1.0.1)\n",
      "Requirement already satisfied: numpy>=1.13.3 in c:\\users\\trive\\appdata\\local\\conda\\conda\\envs\\tensorflowenv\\lib\\site-packages (from pandas) (1.18.1)\n",
      "Requirement already satisfied: python-dateutil>=2.6.1 in c:\\users\\trive\\appdata\\local\\conda\\conda\\envs\\tensorflowenv\\lib\\site-packages (from pandas) (2.8.1)\n",
      "Requirement already satisfied: pytz>=2017.2 in c:\\users\\trive\\appdata\\local\\conda\\conda\\envs\\tensorflowenv\\lib\\site-packages (from pandas) (2019.3)\n",
      "Requirement already satisfied: six>=1.5 in c:\\users\\trive\\appdata\\local\\conda\\conda\\envs\\tensorflowenv\\lib\\site-packages (from python-dateutil>=2.6.1->pandas) (1.14.0)\n",
      "Requirement already satisfied: matplotlib in c:\\users\\trive\\appdata\\local\\conda\\conda\\envs\\tensorflowenv\\lib\\site-packages (3.1.3)\n",
      "Requirement already satisfied: kiwisolver>=1.0.1 in c:\\users\\trive\\appdata\\local\\conda\\conda\\envs\\tensorflowenv\\lib\\site-packages (from matplotlib) (1.1.0)\n",
      "Requirement already satisfied: pyparsing!=2.0.4,!=2.1.2,!=2.1.6,>=2.0.1 in c:\\users\\trive\\appdata\\local\\conda\\conda\\envs\\tensorflowenv\\lib\\site-packages (from matplotlib) (2.4.6)\n",
      "Requirement already satisfied: python-dateutil>=2.1 in c:\\users\\trive\\appdata\\local\\conda\\conda\\envs\\tensorflowenv\\lib\\site-packages (from matplotlib) (2.8.1)\n",
      "Requirement already satisfied: cycler>=0.10 in c:\\users\\trive\\appdata\\local\\conda\\conda\\envs\\tensorflowenv\\lib\\site-packages (from matplotlib) (0.10.0)\n",
      "Requirement already satisfied: numpy>=1.11 in c:\\users\\trive\\appdata\\local\\conda\\conda\\envs\\tensorflowenv\\lib\\site-packages (from matplotlib) (1.18.1)\n",
      "Requirement already satisfied: setuptools in c:\\users\\trive\\appdata\\local\\conda\\conda\\envs\\tensorflowenv\\lib\\site-packages (from kiwisolver>=1.0.1->matplotlib) (45.2.0.post20200210)\n",
      "Requirement already satisfied: six>=1.5 in c:\\users\\trive\\appdata\\local\\conda\\conda\\envs\\tensorflowenv\\lib\\site-packages (from python-dateutil>=2.1->matplotlib) (1.14.0)\n",
      "check\n"
     ]
    }
   ],
   "source": [
    "!pip install keras\n",
    "!pip install tensorflow\n",
    "!pip install pandas\n",
    "!pip install matplotlib\n",
    "import sys, os, re, csv, codecs, numpy as np, pandas as pd\n",
    "import matplotlib.pyplot as plt\n",
    "%matplotlib inline\n",
    "from keras.preprocessing.text import Tokenizer\n",
    "from keras.preprocessing.sequence import pad_sequences\n",
    "from keras.layers import Dense, Input, LSTM, Embedding, Dropout, Activation\n",
    "from keras.layers import Bidirectional, GlobalMaxPool1D\n",
    "from keras.models import Model\n",
    "from keras import initializers, regularizers, constraints, optimizers, layers\n",
    "print(\"check\")"
   ]
  },
  {
   "cell_type": "code",
   "execution_count": 4,
   "metadata": {},
   "outputs": [
    {
     "data": {
      "text/html": [
       "<div>\n",
       "<style scoped>\n",
       "    .dataframe tbody tr th:only-of-type {\n",
       "        vertical-align: middle;\n",
       "    }\n",
       "\n",
       "    .dataframe tbody tr th {\n",
       "        vertical-align: top;\n",
       "    }\n",
       "\n",
       "    .dataframe thead th {\n",
       "        text-align: right;\n",
       "    }\n",
       "</style>\n",
       "<table border=\"1\" class=\"dataframe\">\n",
       "  <thead>\n",
       "    <tr style=\"text-align: right;\">\n",
       "      <th></th>\n",
       "      <th>id</th>\n",
       "      <th>comment_text</th>\n",
       "      <th>toxic</th>\n",
       "      <th>severe_toxic</th>\n",
       "      <th>obscene</th>\n",
       "      <th>threat</th>\n",
       "      <th>insult</th>\n",
       "      <th>identity_hate</th>\n",
       "    </tr>\n",
       "  </thead>\n",
       "  <tbody>\n",
       "    <tr>\n",
       "      <th>0</th>\n",
       "      <td>0000997932d777bf</td>\n",
       "      <td>Explanation\\nWhy the edits made under my usern...</td>\n",
       "      <td>0</td>\n",
       "      <td>0</td>\n",
       "      <td>0</td>\n",
       "      <td>0</td>\n",
       "      <td>0</td>\n",
       "      <td>0</td>\n",
       "    </tr>\n",
       "    <tr>\n",
       "      <th>1</th>\n",
       "      <td>000103f0d9cfb60f</td>\n",
       "      <td>D'aww! He matches this background colour I'm s...</td>\n",
       "      <td>0</td>\n",
       "      <td>0</td>\n",
       "      <td>0</td>\n",
       "      <td>0</td>\n",
       "      <td>0</td>\n",
       "      <td>0</td>\n",
       "    </tr>\n",
       "    <tr>\n",
       "      <th>2</th>\n",
       "      <td>000113f07ec002fd</td>\n",
       "      <td>Hey man, I'm really not trying to edit war. It...</td>\n",
       "      <td>0</td>\n",
       "      <td>0</td>\n",
       "      <td>0</td>\n",
       "      <td>0</td>\n",
       "      <td>0</td>\n",
       "      <td>0</td>\n",
       "    </tr>\n",
       "    <tr>\n",
       "      <th>3</th>\n",
       "      <td>0001b41b1c6bb37e</td>\n",
       "      <td>\"\\nMore\\nI can't make any real suggestions on ...</td>\n",
       "      <td>0</td>\n",
       "      <td>0</td>\n",
       "      <td>0</td>\n",
       "      <td>0</td>\n",
       "      <td>0</td>\n",
       "      <td>0</td>\n",
       "    </tr>\n",
       "    <tr>\n",
       "      <th>4</th>\n",
       "      <td>0001d958c54c6e35</td>\n",
       "      <td>You, sir, are my hero. Any chance you remember...</td>\n",
       "      <td>0</td>\n",
       "      <td>0</td>\n",
       "      <td>0</td>\n",
       "      <td>0</td>\n",
       "      <td>0</td>\n",
       "      <td>0</td>\n",
       "    </tr>\n",
       "  </tbody>\n",
       "</table>\n",
       "</div>"
      ],
      "text/plain": [
       "                 id                                       comment_text  toxic  \\\n",
       "0  0000997932d777bf  Explanation\\nWhy the edits made under my usern...      0   \n",
       "1  000103f0d9cfb60f  D'aww! He matches this background colour I'm s...      0   \n",
       "2  000113f07ec002fd  Hey man, I'm really not trying to edit war. It...      0   \n",
       "3  0001b41b1c6bb37e  \"\\nMore\\nI can't make any real suggestions on ...      0   \n",
       "4  0001d958c54c6e35  You, sir, are my hero. Any chance you remember...      0   \n",
       "\n",
       "   severe_toxic  obscene  threat  insult  identity_hate  \n",
       "0             0        0       0       0              0  \n",
       "1             0        0       0       0              0  \n",
       "2             0        0       0       0              0  \n",
       "3             0        0       0       0              0  \n",
       "4             0        0       0       0              0  "
      ]
     },
     "execution_count": 4,
     "metadata": {},
     "output_type": "execute_result"
    }
   ],
   "source": [
    "train=pd.read_csv(r\"C:\\Users\\trive\\train.csv\")\n",
    "train.head()\n"
   ]
  },
  {
   "cell_type": "code",
   "execution_count": 5,
   "metadata": {},
   "outputs": [
    {
     "data": {
      "text/html": [
       "<div>\n",
       "<style scoped>\n",
       "    .dataframe tbody tr th:only-of-type {\n",
       "        vertical-align: middle;\n",
       "    }\n",
       "\n",
       "    .dataframe tbody tr th {\n",
       "        vertical-align: top;\n",
       "    }\n",
       "\n",
       "    .dataframe thead th {\n",
       "        text-align: right;\n",
       "    }\n",
       "</style>\n",
       "<table border=\"1\" class=\"dataframe\">\n",
       "  <thead>\n",
       "    <tr style=\"text-align: right;\">\n",
       "      <th></th>\n",
       "      <th>id</th>\n",
       "      <th>comment_text</th>\n",
       "    </tr>\n",
       "  </thead>\n",
       "  <tbody>\n",
       "    <tr>\n",
       "      <th>0</th>\n",
       "      <td>00001cee341fdb12</td>\n",
       "      <td>Yo bitch Ja Rule is more succesful then you'll...</td>\n",
       "    </tr>\n",
       "    <tr>\n",
       "      <th>1</th>\n",
       "      <td>0000247867823ef7</td>\n",
       "      <td>== From RfC == \\n\\n The title is fine as it is...</td>\n",
       "    </tr>\n",
       "    <tr>\n",
       "      <th>2</th>\n",
       "      <td>00013b17ad220c46</td>\n",
       "      <td>\" \\n\\n == Sources == \\n\\n * Zawe Ashton on Lap...</td>\n",
       "    </tr>\n",
       "    <tr>\n",
       "      <th>3</th>\n",
       "      <td>00017563c3f7919a</td>\n",
       "      <td>:If you have a look back at the source, the in...</td>\n",
       "    </tr>\n",
       "    <tr>\n",
       "      <th>4</th>\n",
       "      <td>00017695ad8997eb</td>\n",
       "      <td>I don't anonymously edit articles at all.</td>\n",
       "    </tr>\n",
       "  </tbody>\n",
       "</table>\n",
       "</div>"
      ],
      "text/plain": [
       "                 id                                       comment_text\n",
       "0  00001cee341fdb12  Yo bitch Ja Rule is more succesful then you'll...\n",
       "1  0000247867823ef7  == From RfC == \\n\\n The title is fine as it is...\n",
       "2  00013b17ad220c46  \" \\n\\n == Sources == \\n\\n * Zawe Ashton on Lap...\n",
       "3  00017563c3f7919a  :If you have a look back at the source, the in...\n",
       "4  00017695ad8997eb          I don't anonymously edit articles at all."
      ]
     },
     "execution_count": 5,
     "metadata": {},
     "output_type": "execute_result"
    }
   ],
   "source": [
    "test=pd.read_csv(r\"C:\\Users\\trive\\test.csv\")\n",
    "test.head()\n"
   ]
  },
  {
   "cell_type": "code",
   "execution_count": 6,
   "metadata": {},
   "outputs": [
    {
     "data": {
      "text/plain": [
       "(id               False\n",
       " comment_text     False\n",
       " toxic            False\n",
       " severe_toxic     False\n",
       " obscene          False\n",
       " threat           False\n",
       " insult           False\n",
       " identity_hate    False\n",
       " dtype: bool,\n",
       " id              False\n",
       " comment_text    False\n",
       " dtype: bool)"
      ]
     },
     "execution_count": 6,
     "metadata": {},
     "output_type": "execute_result"
    }
   ],
   "source": [
    "train.isnull().any(),test.isnull().any()"
   ]
  },
  {
   "cell_type": "code",
   "execution_count": 7,
   "metadata": {},
   "outputs": [
    {
     "data": {
      "text/plain": [
       "0    Yo bitch Ja Rule is more succesful then you'll...\n",
       "1    == From RfC == \\n\\n The title is fine as it is...\n",
       "2    \" \\n\\n == Sources == \\n\\n * Zawe Ashton on Lap...\n",
       "3    :If you have a look back at the source, the in...\n",
       "4            I don't anonymously edit articles at all.\n",
       "Name: comment_text, dtype: object"
      ]
     },
     "execution_count": 7,
     "metadata": {},
     "output_type": "execute_result"
    }
   ],
   "source": [
    "category=[\"toxic\",\"severe_toxic\",\"obscene\",\"threat\",\"insult\",\"identity_hate\"]\n",
    "y=train[category].values\n",
    "\n",
    "sentences_train=train[\"comment_text\"]\n",
    "sentences_train.head()\n",
    "sentences_test=test[\"comment_text\"]\n",
    "sentences_test.head()"
   ]
  },
  {
   "cell_type": "raw",
   "metadata": {},
   "source": [
    "NOw we have to tokenise the data into strings"
   ]
  },
  {
   "cell_type": "code",
   "execution_count": 9,
   "metadata": {},
   "outputs": [],
   "source": [
    "maximum=20000\n",
    "token=Tokenizer(num_words=maximum)\n",
    "token.fit_on_texts(list(sentences_train))\n",
    "list_tokenized_train = token.texts_to_sequences(sentences_train)\n",
    "list_tokenized_test = token.texts_to_sequences(sentences_test)"
   ]
  },
  {
   "cell_type": "code",
   "execution_count": 10,
   "metadata": {},
   "outputs": [
    {
     "data": {
      "text/plain": [
       "[[688,\n",
       "  75,\n",
       "  1,\n",
       "  126,\n",
       "  130,\n",
       "  177,\n",
       "  29,\n",
       "  672,\n",
       "  4511,\n",
       "  12052,\n",
       "  1116,\n",
       "  86,\n",
       "  331,\n",
       "  51,\n",
       "  2278,\n",
       "  11448,\n",
       "  50,\n",
       "  6864,\n",
       "  15,\n",
       "  60,\n",
       "  2756,\n",
       "  148,\n",
       "  7,\n",
       "  2937,\n",
       "  34,\n",
       "  117,\n",
       "  1221,\n",
       "  15190,\n",
       "  2825,\n",
       "  4,\n",
       "  45,\n",
       "  59,\n",
       "  244,\n",
       "  1,\n",
       "  365,\n",
       "  31,\n",
       "  1,\n",
       "  38,\n",
       "  27,\n",
       "  143,\n",
       "  73,\n",
       "  3462,\n",
       "  89,\n",
       "  3085,\n",
       "  4583,\n",
       "  2273,\n",
       "  985]]"
      ]
     },
     "execution_count": 10,
     "metadata": {},
     "output_type": "execute_result"
    }
   ],
   "source": [
    "list_tokenized_train[:1]"
   ]
  },
  {
   "cell_type": "code",
   "execution_count": 11,
   "metadata": {},
   "outputs": [],
   "source": [
    "maxlen=200\n",
    "X_t = pad_sequences(list_tokenized_train, maxlen=maxlen)\n",
    "X_te = pad_sequences(list_tokenized_test, maxlen=maxlen)\n",
    "#padding sequence so that size is not very big and not very small\n"
   ]
  },
  {
   "cell_type": "code",
   "execution_count": null,
   "metadata": {},
   "outputs": [],
   "source": [
    "totalNumWords = [len(one_comment) for one_comment in list_tokenized_train]\n"
   ]
  },
  {
   "cell_type": "code",
   "execution_count": 13,
   "metadata": {},
   "outputs": [
    {
     "data": {
      "image/png": "[encoded data removed]",
      "text/plain": [
       "<Figure size 432x288 with 1 Axes>"
      ]
     },
     "metadata": {
      "needs_background": "light"
     },
     "output_type": "display_data"
    }
   ],
   "source": [
    "plt.hist(totalNumWords,bins = np.arange(0,410,10),color=\"red\")#[0,50,100,150,200,250,300,350,400])#,450,500,550,600,650,700,750,800,850,900])\n",
    "plt.xlabel('no of words')\n",
    "plt.ylabel('Comments')\n",
    "\n",
    "plt.show()"
   ]
  },
  {
   "cell_type": "code",
   "execution_count": 14,
   "metadata": {},
   "outputs": [],
   "source": [
    "inp=Input(shape=(maxlen,))"
   ]
  },
  {
   "cell_type": "raw",
   "metadata": {},
   "source": [
    "Embediing the layer where vector spacing is done.\n",
    "learnt from this guide analyticsvidhya.com/blog/2017/06/word-embeddings-count-word2veec/"
   ]
  },
  {
   "cell_type": "code",
   "execution_count": 19,
   "metadata": {},
   "outputs": [
    {
     "name": "stdout",
     "output_type": "stream",
     "text": [
      "Tensor(\"global_max_pooling1d_2/Max:0\", shape=(?, 60), dtype=float32)\n"
     ]
    }
   ],
   "source": [
    "embed_size = 128\n",
    "x = Embedding(maximum, embed_size)(inp)\n",
    "x = LSTM(60, return_sequences=True,name='lstm_layer')(x)\n",
    "x = GlobalMaxPool1D()(x)\n",
    "print(x)"
   ]
  },
  {
   "cell_type": "code",
   "execution_count": 20,
   "metadata": {},
   "outputs": [
    {
     "name": "stdout",
     "output_type": "stream",
     "text": [
      "WARNING:tensorflow:From C:\\Users\\trive\\AppData\\Local\\conda\\conda\\envs\\tensorflowenv\\lib\\site-packages\\keras\\backend\\tensorflow_backend.py:133: The name tf.placeholder_with_default is deprecated. Please use tf.compat.v1.placeholder_with_default instead.\n",
      "\n",
      "WARNING:tensorflow:From C:\\Users\\trive\\AppData\\Local\\conda\\conda\\envs\\tensorflowenv\\lib\\site-packages\\keras\\backend\\tensorflow_backend.py:3445: calling dropout (from tensorflow.python.ops.nn_ops) with keep_prob is deprecated and will be removed in a future version.\n",
      "Instructions for updating:\n",
      "Please use `rate` instead of `keep_prob`. Rate should be set to `rate = 1 - keep_prob`.\n"
     ]
    }
   ],
   "source": [
    "x = Dense(50, activation=\"relu\")(x)\n",
    "x = Dropout(0.1)(x)\n",
    "x = Dense(6, activation=\"sigmoid\")(x) # this is for binary classification for all 6 category\n"
   ]
  },
  {
   "cell_type": "code",
   "execution_count": 21,
   "metadata": {},
   "outputs": [],
   "source": [
    "model = Model(inputs=inp, outputs=x)\n",
    "model.compile(loss='binary_crossentropy',\n",
    "                  optimizer='adam',\n",
    "                  metrics=['accuracy'])"
   ]
  },
  {
   "cell_type": "code",
   "execution_count": 54,
   "metadata": {
    "scrolled": true
   },
   "outputs": [
    {
     "name": "stdout",
     "output_type": "stream",
     "text": [
      "Train on 143613 samples, validate on 15958 samples\n",
      "Epoch 1/2\n",
      "143613/143613 [==============================] - 684s 5ms/step - loss: 0.0378 - acc: 0.9853 - val_loss: 0.0454 - val_acc: 0.9832\n",
      "Epoch 2/2\n",
      "143613/143613 [==============================] - 875s 6ms/step - loss: 0.0326 - acc: 0.9870 - val_loss: 0.0490 - val_acc: 0.9827\n"
     ]
    }
   ],
   "source": [
    "batch_size = 32\n",
    "epochs = 2\n",
    "history=model.fit(X_t,y, batch_size=batch_size, epochs=epochs, validation_split=0.1)"
   ]
  },
  {
   "cell_type": "code",
   "execution_count": 106,
   "metadata": {},
   "outputs": [
    {
     "name": "stdout",
     "output_type": "stream",
     "text": [
      "159571/159571 [==============================] - 138s 862us/step\n"
     ]
    }
   ],
   "source": [
    "score=model.evaluate(X_t,y ,verbose=1)"
   ]
  },
  {
   "cell_type": "code",
   "execution_count": 115,
   "metadata": {},
   "outputs": [
    {
     "name": "stdout",
     "output_type": "stream",
     "text": [
      "acc: 98.93%\n",
      "loss: 2.81%\n"
     ]
    }
   ],
   "source": [
    "print(\"%s: %.2f%%\" % (model.metrics_names[1], score[1]*100))\n",
    "print(\"%s: %.2f%%\" % (model.metrics_names[0], score[0]*100))"
   ]
  },
  {
   "cell_type": "code",
   "execution_count": null,
   "metadata": {},
   "outputs": [],
   "source": [
    "THE BELOW CODE IS TO SAVE THE MODEL"
   ]
  },
  {
   "cell_type": "code",
   "execution_count": 123,
   "metadata": {},
   "outputs": [
    {
     "name": "stdout",
     "output_type": "stream",
     "text": [
      "Saved model to disk\n"
     ]
    }
   ],
   "source": [
    "model_json = model.to_json()\n",
    "with open(\"mymodel.json\", \"w\") as json_file:\n",
    "    json_file.write(model_json)\n",
    "# serialize weights to HDF5\n",
    "model.save_weights(\"mymodel.h5\")\n",
    "print(\"Saved model to disk\")"
   ]
  },
  {
   "cell_type": "code",
   "execution_count": 125,
   "metadata": {},
   "outputs": [],
   "source": [
    "model.save(\"model.h5\")"
   ]
  },
  {
   "cell_type": "raw",
   "metadata": {},
   "source": [
    "THE BELOW CODE IS TO LOAD THE MODEL TO SHOWCASE THE ACCURACY AND SUMMARY"
   ]
  },
  {
   "cell_type": "code",
   "execution_count": null,
   "metadata": {},
   "outputs": [],
   "source": [
    "from numpy import loadtxt\n",
    "from keras.models import load_model\n",
    "model=load_model('model.h5')\n",
    "model.summary()\n",
    "print(\"%s: %.2f%%\" % (model.metrics_names[1], score[1]*100))\n",
    "print(\"%s: %.2f%%\" % (model.metrics_names[0], score[0]*100))"
   ]
  },
  {
   "cell_type": "code",
   "execution_count": 99,
   "metadata": {
    "scrolled": true
   },
   "outputs": [
    {
     "name": "stdout",
     "output_type": "stream",
     "text": [
      "153164/153164 [==============================] - 113s 736us/step\n",
      "First prediction: [0.99943024 0.44516963 0.9947281  0.04020742 0.9622603  0.11236677]\n"
     ]
    }
   ],
   "source": [
    "predictions=model.predict(X_te, batch_size = 32, verbose = 1)\n",
    "\n"
   ]
  },
  {
   "cell_type": "code",
   "execution_count": 89,
   "metadata": {},
   "outputs": [
    {
     "name": "stdout",
     "output_type": "stream",
     "text": [
      "dict_keys(['val_loss', 'val_acc', 'loss', 'acc'])\n"
     ]
    },
    {
     "data": {
      "image/png": "[encoded data removed]",
      "text/plain": [
       "<Figure size 432x288 with 1 Axes>"
      ]
     },
     "metadata": {
      "needs_background": "light"
     },
     "output_type": "display_data"
    },
    {
     "data": {
      "image/png": "[encoded data removed]",
      "text/plain": [
       "<Figure size 432x288 with 1 Axes>"
      ]
     },
     "metadata": {
      "needs_background": "light"
     },
     "output_type": "display_data"
    }
   ],
   "source": [
    "#print(history.history.keys())\n",
    "results=history.history.keys()\n",
    "print(results)\n",
    "\n",
    "plt.plot(history.history['acc'])\n",
    "plt.plot(history.history['val_acc'])\n",
    "plt.title('model accuracy')\n",
    "plt.ylabel('accuracy')\n",
    "plt.xlabel('epoch')\n",
    "plt.legend(['train', 'test'], loc='upper left')\n",
    "plt.show()\n",
    "# summarize history for loss\n",
    "plt.plot(history.history['loss'])\n",
    "plt.plot(history.history['val_loss'])\n",
    "plt.title('model loss')\n",
    "plt.ylabel('loss')\n",
    "plt.xlabel('epoch')\n",
    "plt.legend(['train', 'test'], loc='upper left')\n",
    "plt.show()"
   ]
  },
  {
   "cell_type": "code",
   "execution_count": 90,
   "metadata": {
    "scrolled": true
   },
   "outputs": [
    {
     "name": "stdout",
     "output_type": "stream",
     "text": [
      "[[9.99430239e-01 4.45169628e-01 9.94728088e-01 4.02074158e-02\n",
      "  9.62260306e-01 1.12366766e-01]\n",
      " [2.58058310e-04 0.00000000e+00 7.03334808e-06 1.78813934e-07\n",
      "  1.05500221e-05 1.02519989e-05]\n",
      " [7.14749098e-04 6.79492950e-06 3.57836485e-04 1.05500221e-05\n",
      "  1.13248825e-04 8.11219215e-05]\n",
      " ...\n",
      " [8.97049904e-06 0.00000000e+00 1.04308128e-06 0.00000000e+00\n",
      "  2.98023224e-07 2.08616257e-07]\n",
      " [2.78651714e-05 0.00000000e+00 5.06639481e-07 5.96046448e-08\n",
      "  8.34465027e-07 9.53674316e-06]\n",
      " [9.89491522e-01 1.47377849e-02 8.55288684e-01 5.99473715e-04\n",
      "  7.28984594e-01 2.90581584e-03]]\n"
     ]
    }
   ],
   "source": [
    "print(prediction)"
   ]
  },
  {
   "cell_type": "code",
   "execution_count": null,
   "metadata": {},
   "outputs": [
    {
     "name": "stdout",
     "output_type": "stream",
     "text": [
      "Train on 119678 samples, validate on 39893 samples\n",
      "Epoch 1/20\n",
      "119678/119678 [==============================] - 453s 4ms/step - loss: 0.0253 - acc: 0.9901 - val_loss: 0.0365 - val_acc: 0.9869\n",
      "Epoch 2/20\n",
      "119678/119678 [==============================] - 459s 4ms/step - loss: 0.0217 - acc: 0.9915 - val_loss: 0.0393 - val_acc: 0.9865\n",
      "Epoch 3/20\n",
      "119678/119678 [==============================] - 493s 4ms/step - loss: 0.0187 - acc: 0.9928 - val_loss: 0.0419 - val_acc: 0.9860\n",
      "Epoch 4/20\n",
      "119678/119678 [==============================] - 414s 3ms/step - loss: 0.0161 - acc: 0.9939 - val_loss: 0.0480 - val_acc: 0.9850\n",
      "Epoch 5/20\n",
      "119678/119678 [==============================] - 423s 4ms/step - loss: 0.0134 - acc: 0.9950 - val_loss: 0.0529 - val_acc: 0.9849\n",
      "Epoch 6/20\n",
      "119678/119678 [==============================] - 423s 4ms/step - loss: 0.0113 - acc: 0.9957 - val_loss: 0.0579 - val_acc: 0.9844\n",
      "Epoch 7/20\n",
      "119678/119678 [==============================] - 427s 4ms/step - loss: 0.0097 - acc: 0.9964 - val_loss: 0.0628 - val_acc: 0.9840\n",
      "Epoch 8/20\n",
      "119678/119678 [==============================] - 435s 4ms/step - loss: 0.0084 - acc: 0.9970 - val_loss: 0.0681 - val_acc: 0.9838\n",
      "Epoch 9/20\n",
      "  6528/119678 [>.............................] - ETA: 6:07 - loss: 0.0064 - acc: 0.9980"
     ]
    }
   ],
   "source": [
    "batch_size = 128\n",
    "epochs = 20\n",
    "history1=model.fit(X_t,y, batch_size=batch_size, epochs=epochs, validation_split=0.25)"
   ]
  }
 ],
 "metadata": {
  "kernelspec": {
   "display_name": "Python 3",
   "language": "python",
   "name": "python3"
  },
  "language_info": {
   "codemirror_mode": {
    "name": "ipython",
    "version": 3
   },
   "file_extension": ".py",
   "mimetype": "text/x-python",
   "name": "python",
   "nbconvert_exporter": "python",
   "pygments_lexer": "ipython3",
   "version": "3.7.6"
  }
 },
 "nbformat": 4,
 "nbformat_minor": 2
}
